{
 "cells": [
  {
   "cell_type": "markdown",
   "id": "d6337206",
   "metadata": {},
   "source": [
    "## Consigne\n",
    "\n",
    "Le travail attendu pour ces 3 semaines est à faire dans les fichiers `session1.py`, `session2.py`, `session3.py`. \n",
    "\n",
    "Les fichiers `session{1|2|3}.py` commenceront par un commentaire avec les noms de leur auteur :\n",
    "\n",
    "```python\n",
    "# prenom1 nom1\n",
    "# prenom2 nom2\n",
    "```\n",
    "\n",
    "Une attention particulière sera portée à la qualité de la documentation de votre code.\n",
    "\n",
    "Cette semaine, il s'agit de travaillr dans session2.py"
   ]
  },
  {
   "cell_type": "code",
   "execution_count": 1,
   "id": "d0fbb8e7-f756-4c0e-813c-c7a1eac104a8",
   "metadata": {},
   "outputs": [],
   "source": [
    "import session2 as project\n",
    "import pandas as pd\n",
    "import numpy as np"
   ]
  },
  {
   "cell_type": "markdown",
   "id": "88fd0464-5e36-4f71-965e-926f1414ee47",
   "metadata": {},
   "source": [
    "# Session 2 - Modélisation d'une microferme en maraîchage diversifié"
   ]
  },
  {
   "cell_type": "markdown",
   "id": "bcf1720a-8b92-4c54-9787-c18eab2c3f3a",
   "metadata": {},
   "source": [
    "Dans les microfermes en maraîchage diversifié, les produits récoltés sont souvent vendus en direct aux particuliers sous forme de paniers hebdomadaires. Il faut pour satisfaire la clientèle avoir suffisament de sortes de légumes et suffisament de sortes de légume pour chaque catégorie. Dans la suite, on considère 8 catégories de légume. Le maraîcher choisit donc parmi les **cycles de culture** ceux qui sont adaptés pour respecter les contraintes de quantité et de diversité. La viabilité d'une microferme respectant ces contraintes sera évaluées sur la base du revenu et de la charge de travail qu'elle génère. Le but du projet est de simuler des microfermes de manière aléatoire et d'évaluer leur viabvilité."
   ]
  },
  {
   "cell_type": "markdown",
   "id": "469c48e2-7c3e-4288-9fa5-c3d673be743b",
   "metadata": {},
   "source": [
    "## 1 - Simulation d'une microferme\n",
    "\n",
    "On dispose de deux bases de données issues de la thèse de Kevin Morel qui rassemble les plus de 1000 cycles de culture et qui donne les critères de quantité et de diversité.\n",
    "\n",
    "La base de données **\"cropping_cycles.csv\"** contient plus de 1000 cycles de culture avec pour chaque cycle de culture:\n",
    "- un identifiant entier unique ('ID'), par exemple 233\n",
    "- le nom en français du légume concerné ('Crop_french'), par exemple 'Tomate cerise'\n",
    "- la catégorie du légume concerné ('Crop category'), par exemple 'Tomato'\n",
    "- le nombre de lots minimum par mois de récolte ('Shmin') et maximum total ('Shmax') qu'on peut cultiver pour ce cycle\n",
    "- la durée de la récolte en mois ('Harvest_last')\n",
    "- pour chaque mois de l'année, un booléen (0 ou 1) qui indique si le légume cultivé dans ce cycle peut être vendu ('Sale_Jan', 'Sale_Feb', 'Sale_Mar',...)\n",
    "\n",
    "La base de données **\"criteria.csv\"** donne pour chaque categorie de légume:\n",
    "- le nom de la categorie ('Crop category')\n",
    "- pour chaque mois le nombre minimum de légumes différent de cette catégorie qui doivent être proposés ('Minimal number of crops_1', 'Minimal number of crops_2', ..., 'Minimal number of crops_12')\n",
    "- pour chaque mois la quantité minimum en nombre de lots de légume proposé dans cette catégorie ('Minimal quantity of shares_1', 'Minimal quantity of shares_2',..., 'Minimal quantity of shares_12')\n",
    "\n",
    "Dans la base de données, plusieurs scénarios sont disponibles, ici on se restreindra à une stratégie de vente sur 12 mois ('Marketing'='12M') et à des climats modérés ('Climat'='Mild')"
   ]
  },
  {
   "cell_type": "markdown",
   "id": "81c86aef",
   "metadata": {},
   "source": [
    "#### 1.0 Implémenter les fonctions qui chargent les bases de données ***cropping_cycles*** et ***criteria*** sous forme de dataframe avec pandas."
   ]
  },
  {
   "cell_type": "code",
   "execution_count": 2,
   "id": "8ea562ea",
   "metadata": {},
   "outputs": [],
   "source": [
    "cropping_cycles = project.get_cropping_cycles_database(\"data/session2/cropping_cycles.csv\")\n",
    "criteria = project.get_criteria(\"data/session2/criteria.csv\")"
   ]
  },
  {
   "cell_type": "markdown",
   "id": "93fbe8bd-7d3b-4d7e-816a-3d030976e20b",
   "metadata": {},
   "source": [
    "#### 1.1 Implémenter la fonction `choose_cycle` qui, pour une catégorie et un mois de vente donnés, choisit un cycle au hasard, le légume étant choisi uniformément parmi ceux possibles. On renverra False si le légume n'est pas requis dans le panier ce mois selon la base ***criteria***, sinon on renverra l'identifiant du cycle."
   ]
  },
  {
   "cell_type": "code",
   "execution_count": 3,
   "id": "8cbc44da-cf45-4ef9-b44d-0317ccc1c607",
   "metadata": {},
   "outputs": [
    {
     "name": "stdout",
     "output_type": "stream",
     "text": [
      "                   Crop_french    ID  Seq Prod_loc Climate Marketing  \\\n",
      "2  Pomme de terre conservation  1130  NaN    Field    Cool       12M   \n",
      "\n",
      "   Settingup  Harvest_start  Harvest_end Winter_storage  ...  Growing_Mar  \\\n",
      "2          4              9           10            yes  ...            0   \n",
      "\n",
      "   Growing_Apr Growing_May  Growing_Jun  Growing_Jul  Growing_Aug  \\\n",
      "2            1           1            1            1            1   \n",
      "\n",
      "   Growing_Sep  Growing_Oct  Growing_Nov  Growing_Dec  \n",
      "2            1            1            0            0  \n",
      "\n",
      "[1 rows x 41 columns]\n",
      "2    1\n",
      "Name: Sale_Apr, dtype: int64\n"
     ]
    }
   ],
   "source": [
    "category = \"Potato\"\n",
    "month = 3 #April since month start at 0\n",
    "\n",
    "cycle_id = project.choose_cycle(category, month, cropping_cycles, criteria)\n",
    "print(cropping_cycles[cropping_cycles[\"ID\"]==cycle_id])\n",
    "print(cropping_cycles[cropping_cycles[\"ID\"]==cycle_id][\"Sale_Apr\"])"
   ]
  },
  {
   "cell_type": "markdown",
   "id": "a9d719a3-43d0-4f8d-bea4-d3c3131cfdee",
   "metadata": {},
   "source": [
    "#### 1.2 On maintient un dictionaire ou une liste d'objet qui contient les identifiants de cycle et leur nombre de lots associé. Implémenter la fonction suivante qui met à jour le nombre de lot pour un cycle donné. On attribuera le nombre minimum de lots la première fois que le cycle est tiré, et on incrémente de 1 les fois suivantes où on tire ce cycle, en limitant à Shmax. "
   ]
  },
  {
   "cell_type": "code",
   "execution_count": 4,
   "id": "40d7b854-d4c3-47d1-89bf-e260afd10556",
   "metadata": {},
   "outputs": [
    {
     "name": "stdout",
     "output_type": "stream",
     "text": [
      "{516: 1}\n"
     ]
    }
   ],
   "source": [
    "cycles={}\n",
    "cycle_id = 516\n",
    "cycle = cropping_cycles[cropping_cycles[\"ID\"]==cycle_id]\n",
    "cycles = project.update_shares(cycle, cycles, cropping_cycles)\n",
    "print(cycles)"
   ]
  },
  {
   "cell_type": "markdown",
   "id": "ae47182e-b87b-4054-a4af-43cbedf07c1a",
   "metadata": {},
   "source": [
    "#### 1.3 Implémenter la fonction qui répartit les lots sur les mois où la vente est possible pour ce mois. Elle renvoie une liste avec pour chaque mois le nombres de lots à vendre."
   ]
  },
  {
   "cell_type": "code",
   "execution_count": 5,
   "id": "c3dfb3c8-3ea4-42d3-8237-7ace295a263d",
   "metadata": {},
   "outputs": [
    {
     "name": "stdout",
     "output_type": "stream",
     "text": [
      "{516: [0.125, 0.125, 0.125, 0.125, 0.0, 0.0, 0.0, 0.0, 0.125, 0.125, 0.125, 0.125]}\n"
     ]
    }
   ],
   "source": [
    "monthly_shares ={}\n",
    "\n",
    "cycle_id = int(cycle[\"ID\"].to_numpy()[0])\n",
    "monthly_shares[cycle_id] = project.spread_shares(cycle, cycles, cropping_cycles)\n",
    "print(monthly_shares)"
   ]
  },
  {
   "cell_type": "markdown",
   "id": "0b908a71-5a6e-460f-b97d-708676eb4355",
   "metadata": {},
   "source": [
    "#### 1.5 Implémenter les fonctions qui renvoient True ou False selon que les critères de quantité et de diversité sont vérifés. "
   ]
  },
  {
   "cell_type": "code",
   "execution_count": 6,
   "id": "5745356c-398a-4831-a525-9383e98a77b2",
   "metadata": {},
   "outputs": [
    {
     "name": "stdout",
     "output_type": "stream",
     "text": [
      "Quantity crit.: False, Diversity crit.: False\n"
     ]
    }
   ],
   "source": [
    "criteria_potato = criteria[criteria[\"Crop category\"]==category]\n",
    "\n",
    "quant = project.check_quant(monthly_shares, criteria_potato, month) #on vérifie le critère de quantité pour un seul mois\n",
    "div = project.check_div(monthly_shares, cropping_cycles, criteria) #on vérifie le critère de diversité pour toute l'année\n",
    "print(\"Quantity crit.: %s, Diversity crit.: %s\"%(quant, div))"
   ]
  },
  {
   "cell_type": "markdown",
   "id": "3b1df446-d43d-4a27-b550-28e1919f3b89",
   "metadata": {},
   "source": [
    "#### 1.6 Implémenter une fonction qui pour un catégorie de légume donnée renvoie un panier qui respecte les contraintes de diversité et de quantité (un dictionaire avec comme index l'id du cycle et en valeur le nombre de lot par an). "
   ]
  },
  {
   "cell_type": "code",
   "execution_count": 7,
   "id": "fc415e06-2ffe-4fa4-9b77-a79d4dfecf4b",
   "metadata": {},
   "outputs": [
    {
     "name": "stdout",
     "output_type": "stream",
     "text": [
      "{219: 1, 518: 1, 791: 1, 793: 3, 514: 1, 525: 1, 1077: 1, 792: 1}\n"
     ]
    }
   ],
   "source": [
    "Box_cat = project.get_box_cat(category, criteria, cropping_cycles)\n",
    "print(Box_cat)"
   ]
  },
  {
   "cell_type": "markdown",
   "id": "04407d40-ac78-4a99-8cad-5efd4465621e",
   "metadata": {},
   "source": [
    "#### 1.7 Implémenter une fonction qui renvoie N paniers (on pourra sauvegarder le résultat en json ou csv.)"
   ]
  },
  {
   "cell_type": "code",
   "execution_count": 8,
   "id": "94a88048-d9ea-4a14-b768-a58158370430",
   "metadata": {},
   "outputs": [
    {
     "name": "stdout",
     "output_type": "stream",
     "text": [
      "{'Carrot': {332: 1, 35: 1, 32: 4, 327: 1, 334: 1, 894: 1, 27: 1, 29: 1, 897: 1, 609: 1, 31: 1}, 'Condiment crop': {296: 2, 297: 2, 753: 1, 763: 1, 964: 1, 1051: 1, 173: 1, 8: 1, 584: 1, 181: 1, 176: 2, 175: 1, 496: 1, 184: 1, 493: 1, 867: 1, 185: 2, 761: 1, 301: 2, 178: 1, 863: 1, 580: 1, 759: 1, 963: 1, 179: 1, 758: 1, 491: 1, 399: 1, 962: 1, 583: 1, 7: 1}, 'Cooked green': {978: 1, 354: 1, 638: 1, 320: 1, 68: 1, 653: 1, 319: 1, 631: 3, 917: 1, 977: 1, 369: 1, 639: 1, 15: 1, 324: 1, 16: 1, 872: 2, 119: 1, 419: 1, 107: 1, 43: 1, 373: 1, 984: 1, 936: 1, 306: 1, 1056: 1, 14: 1, 120: 1, 356: 1, 939: 1, 360: 1, 593: 1, 616: 1, 364: 1}, 'Fruit crop': {391: 4, 428: 2, 426: 1, 510: 2, 455: 1, 990: 2, 1070: 2, 782: 1, 776: 1, 394: 4, 128: 2, 659: 4, 390: 2, 129: 2, 986: 1, 77: 5, 870: 2, 211: 2, 711: 2, 666: 4, 1064: 1, 985: 1, 662: 2, 511: 2, 389: 1, 207: 2, 11: 2, 998: 2, 712: 2, 942: 4, 992: 2, 208: 1, 991: 3, 396: 4, 121: 1, 947: 4, 135: 2, 710: 2, 788: 2, 706: 2, 958: 5, 590: 2, 85: 4, 961: 4, 789: 2, 1066: 1}, 'Potato': {519: 1, 525: 1, 1076: 2, 523: 3, 219: 1, 791: 1, 522: 1}, 'Raw green': {437: 1, 148: 1, 722: 1, 254: 1, 441: 1, 1022: 1, 727: 1, 833: 1, 817: 1, 451: 1, 845: 1, 558: 1, 153: 1, 831: 1, 1031: 1, 1113: 1, 1114: 1, 1110: 1, 272: 1, 913: 1, 141: 1, 151: 1, 731: 2, 473: 1, 548: 1, 847: 1, 1105: 1, 545: 1, 267: 1, 550: 1, 466: 1, 459: 1, 1020: 1, 1103: 1, 159: 1, 843: 1, 140: 1, 1109: 1, 444: 1, 826: 1, 1023: 1, 620: 1, 249: 1, 42: 1, 468: 1}, 'Root crop': {596: 2, 241: 1, 1093: 1, 1094: 1, 813: 1, 239: 1, 797: 1, 343: 1, 1036: 1, 746: 1, 796: 1, 162: 1, 243: 1, 163: 1, 527: 1, 1079: 1, 222: 1, 480: 1}, 'Tomato': {1118: 2, 1129: 3, 288: 1, 291: 1, 282: 2, 861: 3, 290: 1, 1123: 1, 579: 1, 1127: 1, 285: 1, 573: 1, 1124: 1, 852: 1}}\n"
     ]
    }
   ],
   "source": [
    "N = 10 #100000\n",
    "categories = np.unique(cropping_cycles[\"Crop category\"])    \n",
    "\n",
    "boxes = project.get_N_boxes(N, criteria, cropping_cycles, categories) \n",
    "print(boxes[0])\n",
    "\n",
    "project.save_boxes_to_csv(boxes, \"generated_baskets.csv\") #résultat dans le fichier generated_baskets.csv"
   ]
  },
  {
   "cell_type": "markdown",
   "id": "4782ed0c-0850-4133-8397-6de07ada011d",
   "metadata": {},
   "source": [
    "## 2 Estimation de la viabilité d'une microferme"
   ]
  },
  {
   "cell_type": "markdown",
   "id": "778a097b-7f65-492a-8008-0fc5ec2efb94",
   "metadata": {},
   "source": [
    "On suppose que le rendement $Y_c$ pour le système de production s, pour la ferme f et le légume c (en lots par $m^2$ s'écrit):\n",
    "$$log(Y_c) = a_s + a_f + a_c + r$$\n",
    "\n",
    "où les $e_s$, $e_f$ et $r$ suivent des lois normales $\\mathcal{N}(m, \\sigma)$ et décrivent les effets du système de production, de la ferme considérée et des effets aléatoires respectivement. Les paramètres de ces lois sont donnés dans le tableau suivante:\n",
    "\n",
    "|Paramètre| m    | $\\sigma$ |\n",
    "|---------|------|----------|\n",
    "|$a_s$    | 0.74 |      0.12|\n",
    "|$a_f$    | 0. |        0.42|\n",
    "|$r$      | 0. |        0.14|\n",
    "\n",
    "de même la charge de travail en heures par $m²$ $W_c$ pour le système de production s, pour la ferme f et le légume c s'écrit:\n",
    "\n",
    "$$log(W_c) = b_s + b_f + b_c + s$$\n",
    "\n",
    "|Paramètre| m    | $\\sigma$ |\n",
    "|---------|------|----------|\n",
    "|$b_s$    | 2.72 |      0.19|\n",
    "|$b_f$    | 0. |        0.36|\n",
    "|$s$      | 0. |        0.21|\n",
    "\n"
   ]
  },
  {
   "cell_type": "markdown",
   "id": "12dbfeac-3d90-4ec7-bd59-02c39818b76f",
   "metadata": {},
   "source": [
    "On dispose d'une base de données **'Crop_properties.csv'** qui donne pour chaque légume:\n",
    "* son prix au kilo \n",
    "* la quantité par lot en kg\n",
    "* les paramètres $a_c$ et $b_c$ qui décrivent l'effet du légume sur le rendement et la charge de travail."
   ]
  },
  {
   "cell_type": "markdown",
   "id": "036e1b9d-5c6c-4f59-938a-5ea224059d7b",
   "metadata": {},
   "source": [
    "#### 2.1 Calculer pour chaque microferme simulée son profit en euros par $m^2$ ainsi que la charge de travail associée en heures/$m^2$"
   ]
  },
  {
   "cell_type": "code",
   "execution_count": 9,
   "id": "dfef3ed2-1527-4129-8b23-2a2aa476d9e9",
   "metadata": {},
   "outputs": [
    {
     "name": "stdout",
     "output_type": "stream",
     "text": [
      "6694.753789005553 2556.3952901600533\n"
     ]
    }
   ],
   "source": [
    "crop_properties = pd.read_csv(\"data/session2/crop_properties.csv\")\n",
    "workload, CA = project.compute_CA_workload(boxes[0], crop_properties)\n",
    "print(workload, CA)"
   ]
  },
  {
   "cell_type": "markdown",
   "id": "73204b9e",
   "metadata": {},
   "source": [
    "#### 2.2 Calculer la surface puis le chiffre d'affaire correspondant à 1800 heures de travail. "
   ]
  },
  {
   "cell_type": "code",
   "execution_count": 12,
   "id": "d2e5c17a",
   "metadata": {},
   "outputs": [
    {
     "name": "stdout",
     "output_type": "stream",
     "text": [
      "Workload (ws): [4739.229851708015, 6488.299361193556, 6627.074598668536, 5662.6503098908, 10724.36780096558, 3843.52006151279, 5673.0193257728, 5035.049522362092, 5309.452450670716, 4244.574866635869]\n",
      "Revenue per m² (CAs): [1537.2822339511556, 1471.5302208973742, 1838.4403218776383, 1553.278952964188, 1763.5751107639896, 2640.8215065688214, 1494.4813212305464, 2412.8079576255345, 1962.1864771145065, 2187.0632016882814]\n",
      "[ 583.87293035  408.23554065  499.34439851  493.74444162  296.0020822\n",
      " 1236.75137263  474.18600638  862.5643709   665.21655324  927.46950796]\n"
     ]
    }
   ],
   "source": [
    "ws = []\n",
    "CAs = []\n",
    "for box in boxes:\n",
    "    workload, CA = project.compute_CA_workload(box, crop_properties)\n",
    "    ws.append(workload)\n",
    "    CAs.append(CA)\n",
    "print(\"Workload (ws):\", ws)\n",
    "print(\"Revenue per m² (CAs):\", CAs)\n",
    "workload_total=1800\n",
    "CA_total = project.compute_CA(np.array(ws), np.array(CAs), workload_total)\n",
    "print(CA_total)"
   ]
  },
  {
   "cell_type": "markdown",
   "id": "14d56bff-31e3-44a9-88af-a05ef266625c",
   "metadata": {},
   "source": [
    "#### 2.3 Calculer la probabilité qu'une microferme fasse un chiffre d'affaire de plus de 40000 euros par an avec une charge de travail inférieure à 1800 heures par an."
   ]
  },
  {
   "cell_type": "code",
   "execution_count": 13,
   "id": "be77c268-80c0-4ae9-89f4-e91ab8ba9be1",
   "metadata": {},
   "outputs": [
    {
     "name": "stdout",
     "output_type": "stream",
     "text": [
      "0.0\n"
     ]
    }
   ],
   "source": [
    "workload_max=1800\n",
    "CA_min=40000\n",
    "proba_viable = project.compute_probability_viable(boxes, CA_min, workload_max, crop_properties)\n",
    "print(proba_viable)"
   ]
  },
  {
   "cell_type": "raw",
   "id": "7faf2bfd-8b24-4a37-b50e-104bdc43cede",
   "metadata": {},
   "source": [
    "#### 2.4 Faire la figure représentant la distribution jointe de chiffre d'affaire et charge de travail par m^2"
   ]
  },
  {
   "cell_type": "code",
   "execution_count": 14,
   "id": "04e50b83-4686-44ac-b199-92c588f20574",
   "metadata": {},
   "outputs": [
    {
     "data": {
      "image/png": "[encoded data removed]",
      "text/plain": [
       "<Figure size 1000x600 with 2 Axes>"
      ]
     },
     "metadata": {},
     "output_type": "display_data"
    }
   ],
   "source": [
    "project.figure_distribution(ws,CAs)"
   ]
  },
  {
   "cell_type": "markdown",
   "id": "f72970a2-80ff-4ebc-bd57-96ea1ba719ee",
   "metadata": {},
   "source": [
    "![title](WP_dist.png)"
   ]
  },
  {
   "cell_type": "markdown",
   "id": "44b11886",
   "metadata": {},
   "source": [
    "Faire la figure qui montre la distribution du chiffre d'affaire annuel."
   ]
  },
  {
   "cell_type": "code",
   "execution_count": 15,
   "id": "2e47f900",
   "metadata": {},
   "outputs": [
    {
     "data": {
      "image/png": "[encoded data removed]",
      "text/plain": [
       "<Figure size 800x600 with 1 Axes>"
      ]
     },
     "metadata": {},
     "output_type": "display_data"
    }
   ],
   "source": [
    "project.figure_CAtot(CA_total)"
   ]
  },
  {
   "cell_type": "markdown",
   "id": "a37aff82",
   "metadata": {},
   "source": [
    "![title](CA.png)"
   ]
  },
  {
   "cell_type": "code",
   "execution_count": null,
   "id": "01d09087",
   "metadata": {},
   "outputs": [],
   "source": []
  },
  {
   "cell_type": "code",
   "execution_count": null,
   "id": "d9a82e74",
   "metadata": {},
   "outputs": [],
   "source": []
  }
 ],
 "metadata": {
  "kernelspec": {
   "display_name": "Python 3 (ipykernel)",
   "language": "python",
   "name": "python3"
  },
  "language_info": {
   "codemirror_mode": {
    "name": "ipython",
    "version": 3
   },
   "file_extension": ".py",
   "mimetype": "text/x-python",
   "name": "python",
   "nbconvert_exporter": "python",
   "pygments_lexer": "ipython3",
   "version": "3.8.6"
  }
 },
 "nbformat": 4,
 "nbformat_minor": 5
}
